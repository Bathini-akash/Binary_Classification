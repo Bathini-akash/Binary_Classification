{
 "cells": [
  {
   "cell_type": "code",
   "execution_count": null,
   "id": "irish-oregon",
   "metadata": {},
   "outputs": [],
   "source": []
  },
  {
   "cell_type": "markdown",
   "id": "sustained-overall",
   "metadata": {},
   "source": [
    "# perceptron a"
   ]
  },
  {
   "cell_type": "code",
   "execution_count": 45,
   "id": "natural-farmer",
   "metadata": {
    "ExecuteTime": {
     "end_time": "2021-03-20T07:19:19.881590Z",
     "start_time": "2021-03-20T07:19:19.839352Z"
    }
   },
   "outputs": [],
   "source": [
    "%config Completer.use_jedi = False"
   ]
  },
  {
   "cell_type": "code",
   "execution_count": 1,
   "id": "checked-engagement",
   "metadata": {
    "ExecuteTime": {
     "end_time": "2021-03-20T07:06:39.901242Z",
     "start_time": "2021-03-20T07:06:37.491283Z"
    }
   },
   "outputs": [],
   "source": [
    "import csv\n",
    "import pandas as pd\n",
    "import numpy as np\n",
    "import matplotlib.pyplot as plt"
   ]
  },
  {
   "cell_type": "code",
   "execution_count": 51,
   "id": "understanding-activity",
   "metadata": {
    "ExecuteTime": {
     "end_time": "2021-03-20T07:22:15.686847Z",
     "start_time": "2021-03-20T07:22:15.678850Z"
    }
   },
   "outputs": [],
   "source": [
    "fields=['X','Y','Z','A','Status']\n",
    "f=open (\"dataset_LP_1.txt\",\"r\")\n",
    "rl=f.readlines()\n",
    "list1=[]\n",
    "#print(rl)"
   ]
  },
  {
   "cell_type": "code",
   "execution_count": 52,
   "id": "alone-alloy",
   "metadata": {
    "ExecuteTime": {
     "end_time": "2021-03-20T07:22:24.984681Z",
     "start_time": "2021-03-20T07:22:24.976790Z"
    }
   },
   "outputs": [],
   "source": [
    "for x in rl:\t\n",
    "    y=x.rsplit(\",\")\n",
    "    list2=[]\n",
    "    for temp in y:\n",
    "        list2.append(temp)\n",
    "    list1.append(list2)\n",
    "#print(blist1)"
   ]
  },
  {
   "cell_type": "code",
   "execution_count": 59,
   "id": "dedicated-miniature",
   "metadata": {
    "ExecuteTime": {
     "end_time": "2021-03-20T07:37:03.659957Z",
     "start_time": "2021-03-20T07:37:03.636170Z"
    }
   },
   "outputs": [],
   "source": [
    "with open (\"final.csv\",\"w\") as f2:\n",
    "\twriter=csv.writer(f2)\n",
    "\twriter.writerow(fields)\t\n",
    "\twriter.writerows(list1)\t"
   ]
  },
  {
   "cell_type": "code",
   "execution_count": 60,
   "id": "strong-expert",
   "metadata": {
    "ExecuteTime": {
     "end_time": "2021-03-20T07:37:17.371046Z",
     "start_time": "2021-03-20T07:37:17.301249Z"
    }
   },
   "outputs": [
    {
     "name": "stdout",
     "output_type": "stream",
     "text": [
      "            X         Y        Z        A  Status\n",
      "0     3.62160   8.66610  -2.8073 -0.44699       0\n",
      "1     4.54590   8.16740  -2.4586 -1.46210       0\n",
      "2     3.86600  -2.63830   1.9242  0.10645       0\n",
      "3     3.45660   9.52280  -4.0112 -3.59440       0\n",
      "4     0.32924  -4.45520   4.5718 -0.98880       0\n",
      "...       ...       ...      ...      ...     ...\n",
      "1367  0.40614   1.34920  -1.4501 -0.55949       1\n",
      "1368 -1.38870  -4.87730   6.4774  0.34179       1\n",
      "1369 -3.75030 -13.45860  17.5932 -2.77710       1\n",
      "1370 -3.56370  -8.38270  12.3930 -1.28230       1\n",
      "1371 -2.54190  -0.65804   2.6842  1.19520       1\n",
      "\n",
      "[1372 rows x 5 columns]\n"
     ]
    }
   ],
   "source": [
    "f3=pd.read_csv(\"final.csv\") # f3 is a data frame with all the values\n",
    "print(f3)\t"
   ]
  },
  {
   "cell_type": "code",
   "execution_count": 97,
   "id": "single-lounge",
   "metadata": {
    "ExecuteTime": {
     "end_time": "2021-03-20T08:30:57.616976Z",
     "start_time": "2021-03-20T08:30:57.525710Z"
    }
   },
   "outputs": [
    {
     "name": "stdout",
     "output_type": "stream",
     "text": [
      "            X        Y          Z         A  Status\n",
      "0   -3.551000  1.89550   0.186500 -2.440900       1\n",
      "1    1.311400  4.54620   2.293500  0.225410       0\n",
      "2   -4.017300 -8.31230  12.454700 -1.437500       1\n",
      "3   -5.119000  6.64860  -0.049987 -6.520600       1\n",
      "4    3.628900  0.81322   1.627700  0.776270       0\n",
      "..        ...      ...        ...       ...     ...\n",
      "955 -1.749000 -6.33200   6.098700  0.142660       1\n",
      "956  0.045304  6.73340   1.070800 -0.933200       0\n",
      "957 -2.410000  3.74330  -0.402150 -1.295300       1\n",
      "958 -3.205100 -0.14279   0.975650  0.045675       1\n",
      "959  0.329200 -4.45520   4.571800 -0.988800       0\n",
      "\n",
      "[960 rows x 5 columns]\n"
     ]
    },
    {
     "data": {
      "text/html": [
       "<div>\n",
       "<style scoped>\n",
       "    .dataframe tbody tr th:only-of-type {\n",
       "        vertical-align: middle;\n",
       "    }\n",
       "\n",
       "    .dataframe tbody tr th {\n",
       "        vertical-align: top;\n",
       "    }\n",
       "\n",
       "    .dataframe thead th {\n",
       "        text-align: right;\n",
       "    }\n",
       "</style>\n",
       "<table border=\"1\" class=\"dataframe\">\n",
       "  <thead>\n",
       "    <tr style=\"text-align: right;\">\n",
       "      <th></th>\n",
       "      <th>X</th>\n",
       "      <th>Y</th>\n",
       "      <th>Z</th>\n",
       "      <th>A</th>\n",
       "      <th>Status</th>\n",
       "    </tr>\n",
       "  </thead>\n",
       "  <tbody>\n",
       "    <tr>\n",
       "      <th>0</th>\n",
       "      <td>-2.25010</td>\n",
       "      <td>3.31290</td>\n",
       "      <td>-0.88369</td>\n",
       "      <td>-2.89740</td>\n",
       "      <td>1</td>\n",
       "    </tr>\n",
       "    <tr>\n",
       "      <th>1</th>\n",
       "      <td>-1.18590</td>\n",
       "      <td>-1.25190</td>\n",
       "      <td>2.26350</td>\n",
       "      <td>0.77239</td>\n",
       "      <td>1</td>\n",
       "    </tr>\n",
       "    <tr>\n",
       "      <th>2</th>\n",
       "      <td>-1.80760</td>\n",
       "      <td>-8.81310</td>\n",
       "      <td>8.70860</td>\n",
       "      <td>-0.21682</td>\n",
       "      <td>1</td>\n",
       "    </tr>\n",
       "    <tr>\n",
       "      <th>3</th>\n",
       "      <td>-3.38630</td>\n",
       "      <td>-12.98890</td>\n",
       "      <td>13.05450</td>\n",
       "      <td>-2.72020</td>\n",
       "      <td>1</td>\n",
       "    </tr>\n",
       "    <tr>\n",
       "      <th>4</th>\n",
       "      <td>-1.41060</td>\n",
       "      <td>-7.10800</td>\n",
       "      <td>5.64540</td>\n",
       "      <td>0.31335</td>\n",
       "      <td>1</td>\n",
       "    </tr>\n",
       "    <tr>\n",
       "      <th>...</th>\n",
       "      <td>...</td>\n",
       "      <td>...</td>\n",
       "      <td>...</td>\n",
       "      <td>...</td>\n",
       "      <td>...</td>\n",
       "    </tr>\n",
       "    <tr>\n",
       "      <th>407</th>\n",
       "      <td>0.40614</td>\n",
       "      <td>1.34920</td>\n",
       "      <td>-1.45010</td>\n",
       "      <td>-0.55949</td>\n",
       "      <td>1</td>\n",
       "    </tr>\n",
       "    <tr>\n",
       "      <th>408</th>\n",
       "      <td>-1.38870</td>\n",
       "      <td>-4.87730</td>\n",
       "      <td>6.47740</td>\n",
       "      <td>0.34179</td>\n",
       "      <td>1</td>\n",
       "    </tr>\n",
       "    <tr>\n",
       "      <th>409</th>\n",
       "      <td>-3.75030</td>\n",
       "      <td>-13.45860</td>\n",
       "      <td>17.59320</td>\n",
       "      <td>-2.77710</td>\n",
       "      <td>1</td>\n",
       "    </tr>\n",
       "    <tr>\n",
       "      <th>410</th>\n",
       "      <td>-3.56370</td>\n",
       "      <td>-8.38270</td>\n",
       "      <td>12.39300</td>\n",
       "      <td>-1.28230</td>\n",
       "      <td>1</td>\n",
       "    </tr>\n",
       "    <tr>\n",
       "      <th>411</th>\n",
       "      <td>-2.54190</td>\n",
       "      <td>-0.65804</td>\n",
       "      <td>2.68420</td>\n",
       "      <td>1.19520</td>\n",
       "      <td>1</td>\n",
       "    </tr>\n",
       "  </tbody>\n",
       "</table>\n",
       "<p>412 rows × 5 columns</p>\n",
       "</div>"
      ],
      "text/plain": [
       "           X         Y         Z        A  Status\n",
       "0   -2.25010   3.31290  -0.88369 -2.89740       1\n",
       "1   -1.18590  -1.25190   2.26350  0.77239       1\n",
       "2   -1.80760  -8.81310   8.70860 -0.21682       1\n",
       "3   -3.38630 -12.98890  13.05450 -2.72020       1\n",
       "4   -1.41060  -7.10800   5.64540  0.31335       1\n",
       "..       ...       ...       ...      ...     ...\n",
       "407  0.40614   1.34920  -1.45010 -0.55949       1\n",
       "408 -1.38870  -4.87730   6.47740  0.34179       1\n",
       "409 -3.75030 -13.45860  17.59320 -2.77710       1\n",
       "410 -3.56370  -8.38270  12.39300 -1.28230       1\n",
       "411 -2.54190  -0.65804   2.68420  1.19520       1\n",
       "\n",
       "[412 rows x 5 columns]"
      ]
     },
     "execution_count": 97,
     "metadata": {},
     "output_type": "execute_result"
    }
   ],
   "source": [
    "train_data=f3.sample(frac=0.7,random_state=1).reset_index(drop=True)\n",
    "# 70 % of data from f3 is put into train data.\n",
    "test_data =f3.drop(train_data.index).reset_index(drop=True)\n",
    "print(train_data)\n",
    "test_data\n"
   ]
  },
  {
   "cell_type": "code",
   "execution_count": 101,
   "id": "stuck-petroleum",
   "metadata": {
    "ExecuteTime": {
     "end_time": "2021-03-20T08:31:00.867596Z",
     "start_time": "2021-03-20T08:31:00.855484Z"
    }
   },
   "outputs": [
    {
     "ename": "IndentationError",
     "evalue": "unindent does not match any outer indentation level (<tokenize>, line 18)",
     "output_type": "error",
     "traceback": [
      "\u001b[0;36m  File \u001b[0;32m\"<tokenize>\"\u001b[0;36m, line \u001b[0;32m18\u001b[0m\n\u001b[0;31m    if error!=0:\u001b[0m\n\u001b[0m    ^\u001b[0m\n\u001b[0;31mIndentationError\u001b[0m\u001b[0;31m:\u001b[0m unindent does not match any outer indentation level\n"
     ]
    }
   ],
   "source": [
    "rate=0.01\n",
    "no_of_iterations=100\n",
    "X=train_data.iloc[0:,[0,1,2,3]].values\n",
    "Y=train_data.iloc[0:,4].values\n",
    "print(X)\n",
    "print(Y)\n",
    "#print(zip(X,Y))\n",
    "w=np.zeros(train_data.shape[1])\n",
    "print(w)\n",
    "for i in range(no_of_iterations):\n",
    "    temp=0\n",
    "    for x,status in zip(X,Y):\n",
    "\t\ty=np.dot(x,w[1:])+w[0]\n",
    "\t\tpredict_status=np.where(y>= 0.0, 1, 0)# if y>=0 pred is 1 if not its 0 \n",
    "\t\terror=rate*(status-predict)# error is tn\n",
    "\t\tw[1:]+=error*x# rate is eta\n",
    "\t\tw[0]+=error\n",
    "        if error!=0:\n",
    "            temp=1\n",
    "            break\n",
    "    if temp==0:\t\t\n",
    "        break\t"
   ]
  },
  {
   "cell_type": "code",
   "execution_count": 94,
   "id": "pressing-logging",
   "metadata": {
    "ExecuteTime": {
     "end_time": "2021-03-20T08:26:06.977571Z",
     "start_time": "2021-03-20T08:26:06.793229Z"
    }
   },
   "outputs": [],
   "source": [
    "for i in range(no_of_iterations):\n",
    "\ttemp=0\n",
    "\tfor x,status in zip(X,Y):\n",
    "\t\ty=np.dot(x,w[1:])+w[0]\n",
    "\t\tpredict=np.where(y>= 0.0, 1, 0)\n",
    "\t\terror=rate*(status-predict)\n",
    "\t\tw[1:]+=error*x\n",
    "\t\tw[0]+=error\n",
    "\t\tif error!=0:\n",
    "\t\t\ttemp=1\n",
    "\t\t\tbreak\n",
    "\tif temp==0:\t\t\n",
    "\t\tbreak\t\t"
   ]
  },
  {
   "cell_type": "code",
   "execution_count": 103,
   "id": "stylish-indicator",
   "metadata": {
    "ExecuteTime": {
     "end_time": "2021-03-20T08:39:28.466578Z",
     "start_time": "2021-03-20T08:39:28.332771Z"
    }
   },
   "outputs": [
    {
     "name": "stdout",
     "output_type": "stream",
     "text": [
      "99.51456310679612\n"
     ]
    }
   ],
   "source": [
    "rows_in_test=test_data.shape[0] \n",
    "count=0   \n",
    "for index,row in test_data.iterrows():\n",
    "    x=[1,row[0],row[1],row[2],row[3]]\n",
    "    y=np.dot(x,w)\n",
    "    pos_neg=0# \n",
    "    if y>=0:\n",
    "    \tpos_neg=1\n",
    "    if pos_neg==row[4]:\t\n",
    "    \tcount+=1\n",
    "accuracy=(count*100)/rows_in_test\n",
    "print(accuracy)    "
   ]
  }
 ],
 "metadata": {
  "hide_input": false,
  "kernelspec": {
   "display_name": "Python 3",
   "language": "python",
   "name": "python3"
  },
  "language_info": {
   "codemirror_mode": {
    "name": "ipython",
    "version": 3
   },
   "file_extension": ".py",
   "mimetype": "text/x-python",
   "name": "python",
   "nbconvert_exporter": "python",
   "pygments_lexer": "ipython3",
   "version": "3.8.8"
  },
  "toc": {
   "base_numbering": 1,
   "nav_menu": {},
   "number_sections": true,
   "sideBar": true,
   "skip_h1_title": false,
   "title_cell": "Table of Contents",
   "title_sidebar": "Contents",
   "toc_cell": false,
   "toc_position": {},
   "toc_section_display": true,
   "toc_window_display": false
  },
  "varInspector": {
   "cols": {
    "lenName": 16,
    "lenType": 16,
    "lenVar": 40
   },
   "kernels_config": {
    "python": {
     "delete_cmd_postfix": "",
     "delete_cmd_prefix": "del ",
     "library": "var_list.py",
     "varRefreshCmd": "print(var_dic_list())"
    },
    "r": {
     "delete_cmd_postfix": ") ",
     "delete_cmd_prefix": "rm(",
     "library": "var_list.r",
     "varRefreshCmd": "cat(var_dic_list()) "
    }
   },
   "types_to_exclude": [
    "module",
    "function",
    "builtin_function_or_method",
    "instance",
    "_Feature"
   ],
   "window_display": false
  }
 },
 "nbformat": 4,
 "nbformat_minor": 5
}
