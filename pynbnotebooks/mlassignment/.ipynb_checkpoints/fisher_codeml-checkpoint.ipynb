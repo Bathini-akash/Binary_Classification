{
 "cells": [
  {
   "cell_type": "code",
   "execution_count": 2,
   "id": "dirty-louisville",
   "metadata": {
    "ExecuteTime": {
     "end_time": "2021-03-19T15:41:46.910451Z",
     "start_time": "2021-03-19T15:41:43.410637Z"
    }
   },
   "outputs": [],
   "source": [
    "import pandas as pd\n",
    "import numpy as np\n",
    "import matplotlib.pyplot as plt\n",
    "import scipy.stats as stats\n"
   ]
  },
  {
   "cell_type": "code",
   "execution_count": 3,
   "id": "improving-crisis",
   "metadata": {
    "ExecuteTime": {
     "end_time": "2021-03-19T15:41:46.971960Z",
     "start_time": "2021-03-19T15:41:46.940430Z"
    }
   },
   "outputs": [],
   "source": [
    "data = pd.read_csv(\"dataset_FLD.csv\", header=None)\n",
    "points_pos = np.where(data.iloc[:, -1].values == 1)\n",
    "points_neg = np.where(data.iloc[:, -1].values == 0)\n",
    "\n"
   ]
  },
  {
   "cell_type": "code",
   "execution_count": 4,
   "id": "duplicate-behavior",
   "metadata": {
    "ExecuteTime": {
     "end_time": "2021-03-19T15:43:22.501527Z",
     "start_time": "2021-03-19T15:43:22.397953Z"
    }
   },
   "outputs": [],
   "source": [
    "l1 = len(data.iloc[points_pos])\n",
    "l2 = len(data.iloc[points_neg])\n",
    "m1 = sum(data.iloc[points_pos].values[:, :-1]) / l1\n",
    "m2 = sum(data.iloc[points_neg].values[:, :-1]) / l2\n",
    "m1 = m1.reshape(len(m1), 1)  # transpose getting the dimension 3*1\n",
    "m2 = m2.reshape(len(m2), 1)  # transpose"
   ]
  }
 ],
 "metadata": {
  "hide_input": false,
  "kernelspec": {
   "display_name": "Python 3",
   "language": "python",
   "name": "python3"
  },
  "toc": {
   "base_numbering": 1,
   "nav_menu": {},
   "number_sections": true,
   "sideBar": true,
   "skip_h1_title": false,
   "title_cell": "Table of Contents",
   "title_sidebar": "Contents",
   "toc_cell": false,
   "toc_position": {},
   "toc_section_display": true,
   "toc_window_display": false
  },
  "varInspector": {
   "cols": {
    "lenName": 16,
    "lenType": 16,
    "lenVar": 40
   },
   "kernels_config": {
    "python": {
     "delete_cmd_postfix": "",
     "delete_cmd_prefix": "del ",
     "library": "var_list.py",
     "varRefreshCmd": "print(var_dic_list())"
    },
    "r": {
     "delete_cmd_postfix": ") ",
     "delete_cmd_prefix": "rm(",
     "library": "var_list.r",
     "varRefreshCmd": "cat(var_dic_list()) "
    }
   },
   "types_to_exclude": [
    "module",
    "function",
    "builtin_function_or_method",
    "instance",
    "_Feature"
   ],
   "window_display": false
  }
 },
 "nbformat": 4,
 "nbformat_minor": 5
}
