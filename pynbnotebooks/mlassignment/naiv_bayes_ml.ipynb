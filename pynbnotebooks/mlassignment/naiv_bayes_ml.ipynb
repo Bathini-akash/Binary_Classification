{
 "cells": [
  {
   "cell_type": "code",
   "execution_count": null,
   "id": "lonely-contact",
   "metadata": {},
   "outputs": [],
   "source": []
  },
  {
   "cell_type": "code",
   "execution_count": 1,
   "id": "failing-transformation",
   "metadata": {
    "ExecuteTime": {
     "end_time": "2021-03-19T16:09:23.032529Z",
     "start_time": "2021-03-19T16:09:20.221037Z"
    }
   },
   "outputs": [],
   "source": [
    "import csv\n",
    "import pandas as pd\n",
    "import math\n",
    "fields=['statuss','textss']\n",
    "f=open (\"dataset_NB.txt\",\"r\")\n",
    "f1=open(\"my.txt\",\"w\")\n",
    "li=[\"a\", \"about\", \"above\", \"after\", \"again\", \"against\", \"ain\", \"all\", \"am\", \"an\", \"and\", \"any\", \"are\", \"aren\", \"aren't\", \"as\", \"at\", \"be\", \"because\", \"been\", \"before\", \"being\", \"below\", \"between\", \"both\", \"but\", \"by\", \"can\", \"couldn\", \"couldn't\", \"d\", \"did\", \"didn\", \"didn't\", \"do\", \"does\", \"doesn\", \"doesn't\", \"doing\", \"don\", \"don't\", \"down\", \"during\", \"each\", \"few\", \"for\", \"from\", \"further\", \"had\", \"hadn\", \"hadn't\", \"has\", \"hasn\", \"hasn't\", \"have\", \"haven\", \"haven't\", \"having\", \"he\", \"her\", \"here\", \"hers\", \"herself\", \"him\", \"himself\", \"his\", \"how\", \"i\", \"if\", \"in\", \"into\", \"is\", \"isn\", \"isn't\", \"it\", \"it's\", \"its\", \"itself\", \"just\", \"ll\", \"m\", \"ma\", \"me\", \"mightn\", \"mightn't\", \"more\", \"most\", \"mustn\", \"mustn't\", \"my\", \"myself\", \"needn\", \"needn't\", \"no\", \"nor\", \"not\", \"now\", \"o\", \"of\", \"off\", \"on\", \"once\", \"only\", \"or\", \"other\", \"our\", \"ours\", \"ourselves\", \"out\", \"over\", \"own\", \"re\", \"s\", \"same\", \"shan\", \"shan't\", \"she\", \"she's\", \"should\", \"should've\", \"shouldn\", \"shouldn't\", \"so\", \"some\", \"such\", \"t\", \"than\", \"that\", \"that'll\", \"the\", \"their\", \"theirs\", \"them\", \"themselves\", \"then\", \"there\", \"these\", \"they\", \"this\", \"those\", \"through\", \"to\", \"too\", \"under\", \"until\", \"up\", \"ve\", \"very\", \"was\", \"wasn\", \"wasn't\", \"we\", \"were\", \"weren\", \"weren't\", \"what\", \"when\", \"where\", \"which\", \"while\", \"who\", \"whom\", \"why\", \"will\", \"with\", \"won\", \"won't\", \"wouldn\", \"wouldn't\", \"y\", \"you\", \"you'd\", \"you'll\", \"you're\", \"you've\", \"your\", \"yours\", \"yourself\", \"yourselves\", \"could\", \"he'd\", \"he'll\", \"he's\", \"here's\", \"how's\", \"i'd\", \"i'll\", \"i'm\", \"i've\", \"let's\", \"ought\", \"she'd\", \"she'll\", \"that's\", \"there's\", \"they'd\", \"they'll\", \"they're\", \"they've\", \"we'd\", \"we'll\", \"we're\", \"we've\", \"what's\", \"when's\", \"where's\", \"who's\", \"why's\", \"would\", \"able\", \"abst\", \"accordance\", \"according\", \"accordingly\", \"across\", \"act\", \"actually\", \"added\", \"adj\", \"affected\", \"affecting\", \"affects\", \"afterwards\", \"ah\", \"almost\", \"alone\", \"along\", \"already\", \"also\", \"although\", \"always\", \"among\", \"amongst\", \"announce\", \"another\", \"anybody\", \"anyhow\", \"anymore\", \"anyone\", \"anything\", \"anyway\", \"anyways\", \"anywhere\", \"apparently\", \"approximately\", \"arent\", \"arise\", \"around\", \"aside\", \"ask\", \"asking\", \"auth\", \"available\", \"away\", \"awfully\", \"b\", \"back\", \"became\", \"become\", \"becomes\", \"becoming\", \"beforehand\", \"begin\", \"beginning\", \"beginnings\", \"begins\", \"behind\", \"believe\", \"beside\", \"besides\", \"beyond\", \"biol\", \"brief\", \"briefly\", \"c\", \"ca\", \"came\", \"cannot\", \"can't\", \"cause\", \"causes\", \"certain\", \"certainly\", \"co\", \"com\", \"come\", \"comes\", \"contain\", \"containing\", \"contains\", \"couldnt\", \"date\", \"different\", \"done\", \"downwards\", \"due\", \"e\", \"ed\", \"edu\", \"effect\", \"eg\", \"eight\", \"eighty\", \"either\", \"else\", \"elsewhere\", \"end\", \"ending\", \"enough\", \"especially\", \"et\", \"etc\", \"even\", \"ever\", \"every\", \"everybody\", \"everyone\", \"everything\", \"everywhere\", \"ex\", \"except\", \"f\", \"far\", \"ff\", \"fifth\", \"first\", \"five\", \"fix\", \"followed\", \"following\", \"follows\", \"former\", \"formerly\", \"forth\", \"found\", \"four\", \"furthermore\", \"g\", \"gave\", \"get\", \"gets\", \"getting\", \"give\", \"given\", \"gives\", \"giving\", \"go\", \"goes\", \"gone\", \"got\", \"gotten\", \"h\", \"happens\", \"hardly\", \"hed\", \"hence\", \"hereafter\", \"hereby\", \"herein\", \"heres\", \"hereupon\", \"hes\", \"hi\", \"hid\", \"hither\", \"home\", \"howbeit\", \"however\", \"hundred\", \"id\", \"ie\", \"im\", \"immediate\", \"immediately\", \"importance\", \"important\", \"inc\", \"indeed\", \"index\", \"information\", \"instead\", \"invention\", \"inward\", \"itd\", \"it'll\", \"j\", \"k\", \"keep\", \"keeps\", \"kept\", \"kg\", \"km\", \"know\", \"known\", \"knows\", \"l\", \"largely\", \"last\", \"lately\", \"later\", \"latter\", \"latterly\", \"least\", \"less\", \"lest\", \"let\", \"lets\", \"like\", \"liked\", \"likely\", \"line\", \"little\", \"'ll\", \"look\", \"looking\", \"looks\", \"ltd\", \"made\", \"mainly\", \"make\", \"makes\", \"many\", \"may\", \"maybe\", \"mean\", \"means\", \"meantime\", \"meanwhile\", \"merely\", \"mg\", \"might\", \"million\", \"miss\", \"ml\", \"moreover\", \"mostly\", \"mr\", \"mrs\", \"much\", \"mug\", \"must\", \"n\", \"na\", \"name\", \"namely\", \"nay\", \"nd\", \"near\", \"nearly\", \"necessarily\", \"necessary\", \"need\", \"needs\", \"neither\", \"never\", \"nevertheless\", \"new\", \"next\", \"nine\", \"ninety\", \"nobody\", \"non\", \"none\", \"nonetheless\", \"noone\", \"normally\", \"nos\", \"noted\", \"nothing\", \"nowhere\", \"obtain\", \"obtained\", \"obviously\", \"often\", \"oh\", \"ok\", \"okay\", \"old\", \"omitted\", \"one\", \"ones\", \"onto\", \"ord\", \"others\", \"otherwise\", \"outside\", \"overall\", \"owing\", \"p\", \"page\", \"pages\", \"part\", \"particular\", \"particularly\", \"past\", \"per\", \"perhaps\", \"placed\", \"please\", \"plus\", \"poorly\", \"possible\", \"possibly\", \"potentially\", \"pp\", \"predominantly\", \"present\", \"previously\", \"primarily\", \"probably\", \"promptly\", \"proud\", \"provides\", \"put\", \"q\", \"que\", \"quickly\", \"quite\", \"qv\", \"r\", \"ran\", \"rather\", \"rd\", \"readily\", \"really\", \"recent\", \"recently\", \"ref\", \"refs\", \"regarding\", \"regardless\", \"regards\", \"related\", \"relatively\", \"research\", \"respectively\", \"resulted\", \"resulting\", \"results\", \"right\", \"run\", \"said\", \"saw\", \"say\", \"saying\", \"says\", \"sec\", \"section\", \"see\", \"seeing\", \"seem\", \"seemed\", \"seeming\", \"seems\", \"seen\", \"self\", \"selves\", \"sent\", \"seven\", \"several\", \"shall\", \"shed\", \"shes\", \"show\", \"showed\", \"shown\", \"showns\", \"shows\", \"significant\", \"significantly\", \"similar\", \"similarly\", \"since\", \"six\", \"slightly\", \"somebody\", \"somehow\", \"someone\", \"somethan\", \"something\", \"sometime\", \"sometimes\", \"somewhat\", \"somewhere\", \"soon\", \"sorry\", \"specifically\", \"specified\", \"specify\", \"specifying\", \"still\", \"stop\", \"strongly\", \"sub\", \"substantially\", \"successfully\", \"sufficiently\", \"suggest\", \"sup\", \"sure\", \"take\", \"taken\", \"taking\", \"tell\", \"tends\", \"th\", \"thank\", \"thanks\", \"thanx\", \"thats\", \"that've\", \"thence\", \"thereafter\", \"thereby\", \"thered\", \"therefore\", \"therein\", \"there'll\", \"thereof\", \"therere\", \"theres\", \"thereto\", \"thereupon\", \"there've\", \"theyd\", \"theyre\", \"think\", \"thou\", \"though\", \"thoughh\", \"thousand\", \"throug\", \"throughout\", \"thru\", \"thus\", \"til\", \"tip\", \"together\", \"took\", \"toward\", \"towards\", \"tried\", \"tries\", \"truly\", \"try\", \"trying\", \"ts\", \"twice\", \"two\", \"u\", \"un\", \"unfortunately\", \"unless\", \"unlike\", \"unlikely\", \"unto\", \"upon\", \"ups\", \"us\", \"use\", \"used\", \"useful\", \"usefully\", \"usefulness\", \"uses\", \"using\", \"usually\", \"v\", \"value\", \"various\", \"'ve\", \"via\", \"viz\", \"vol\", \"vols\", \"vs\", \"w\", \"want\", \"wants\", \"wasnt\", \"way\", \"wed\", \"welcome\", \"went\", \"werent\", \"whatever\", \"what'll\", \"whats\", \"whence\", \"whenever\", \"whereafter\", \"whereas\", \"whereby\", \"wherein\", \"wheres\", \"whereupon\", \"wherever\", \"whether\", \"whim\", \"whither\", \"whod\", \"whoever\", \"whole\", \"who'll\", \"whomever\", \"whos\", \"whose\", \"widely\", \"willing\", \"wish\", \"within\", \"without\", \"wont\", \"words\", \"world\", \"wouldnt\", \"www\", \"x\", \"yes\", \"yet\", \"youd\", \"youre\", \"z\", \"zero\", \"a's\", \"ain't\", \"allow\", \"allows\", \"apart\", \"appear\", \"appreciate\", \"appropriate\", \"associated\", \"best\", \"better\", \"c'mon\", \"c's\", \"cant\", \"changes\", \"clearly\", \"concerning\", \"consequently\", \"consider\", \"considering\", \"corresponding\", \"course\", \"currently\", \"definitely\", \"described\", \"despite\", \"entirely\", \"exactly\", \"example\", \"going\", \"greetings\", \"hello\", \"help\", \"hopefully\", \"ignored\", \"inasmuch\", \"indicate\", \"indicated\", \"indicates\", \"inner\", \"insofar\", \"it'd\", \"keep\", \"keeps\", \"novel\", \"presumably\", \"reasonably\", \"second\", \"secondly\", \"sensible\", \"serious\", \"seriously\", \"sure\", \"t's\", \"third\", \"thorough\", \"thoroughly\", \"three\", \"well\", \"wonder\", \"a\", \"about\", \"above\", \"above\", \"across\", \"after\", \"afterwards\", \"again\", \"against\", \"all\", \"almost\", \"alone\", \"along\", \"already\", \"also\", \"although\", \"always\", \"am\", \"among\", \"amongst\", \"amoungst\", \"amount\", \"an\", \"and\", \"another\", \"any\", \"anyhow\", \"anyone\", \"anything\", \"anyway\", \"anywhere\", \"are\", \"around\", \"as\", \"at\", \"back\", \"be\", \"became\", \"because\", \"become\", \"becomes\", \"becoming\", \"been\", \"before\", \"beforehand\", \"behind\", \"being\", \"below\", \"beside\", \"besides\", \"between\", \"beyond\", \"bill\", \"both\", \"bottom\", \"but\", \"by\", \"call\", \"can\", \"cannot\", \"cant\", \"co\", \"con\", \"could\", \"couldnt\", \"cry\", \"de\", \"describe\", \"detail\", \"do\", \"done\", \"down\", \"due\", \"during\", \"each\", \"eg\", \"eight\", \"either\", \"eleven\", \"else\", \"elsewhere\", \"empty\", \"enough\", \"etc\", \"even\", \"ever\", \"every\", \"everyone\", \"everything\", \"everywhere\", \"except\", \"few\", \"fifteen\", \"fify\", \"fill\", \"find\", \"fire\", \"first\", \"five\", \"for\", \"former\", \"formerly\", \"forty\", \"found\", \"four\", \"from\", \"front\", \"full\", \"further\", \"get\", \"give\", \"go\", \"had\", \"has\", \"hasnt\", \"have\", \"he\", \"hence\", \"her\", \"here\", \"hereafter\", \"hereby\", \"herein\", \"hereupon\", \"hers\", \"herself\", \"him\", \"himself\", \"his\", \"how\", \"however\", \"hundred\", \"ie\", \"if\", \"in\", \"inc\", \"indeed\", \"interest\", \"into\", \"is\", \"it\", \"its\", \"itself\", \"keep\", \"last\", \"latter\", \"latterly\", \"least\", \"less\", \"ltd\", \"made\", \"many\", \"may\", \"me\", \"meanwhile\", \"might\", \"mill\", \"mine\", \"more\", \"moreover\", \"most\", \"mostly\", \"move\", \"much\", \"must\", \"my\", \"myself\", \"name\", \"namely\", \"neither\", \"never\", \"nevertheless\", \"next\", \"nine\", \"no\", \"nobody\", \"none\", \"noone\", \"nor\", \"not\", \"nothing\", \"now\", \"nowhere\", \"of\", \"off\", \"often\", \"on\", \"once\", \"one\", \"only\", \"onto\", \"or\", \"other\", \"others\", \"otherwise\", \"our\", \"ours\", \"ourselves\", \"out\", \"over\", \"own\", \"part\", \"per\", \"perhaps\", \"please\", \"put\", \"rather\", \"re\", \"same\", \"see\", \"seem\", \"seemed\", \"seeming\", \"seems\", \"serious\", \"several\", \"she\", \"should\", \"show\", \"side\", \"since\", \"sincere\", \"six\", \"sixty\", \"so\", \"some\", \"somehow\", \"someone\", \"something\", \"sometime\", \"sometimes\", \"somewhere\", \"still\", \"such\", \"system\", \"take\", \"ten\", \"than\", \"that\", \"the\", \"their\", \"them\", \"themselves\", \"then\", \"thence\", \"there\", \"thereafter\", \"thereby\", \"therefore\", \"therein\", \"thereupon\", \"these\", \"they\", \"thickv\", \"thin\", \"third\", \"this\", \"those\", \"though\", \"three\", \"through\", \"throughout\", \"thru\", \"thus\", \"to\", \"together\", \"too\", \"top\", \"toward\", \"towards\", \"twelve\", \"twenty\", \"two\", \"un\", \"under\", \"until\", \"up\", \"upon\", \"us\", \"very\", \"via\", \"was\", \"we\", \"well\", \"were\", \"what\", \"whatever\", \"when\", \"whence\", \"whenever\", \"where\", \"whereafter\", \"whereas\", \"whereby\", \"wherein\", \"whereupon\", \"wherever\", \"whether\", \"which\", \"while\", \"whither\", \"who\", \"whoever\", \"whole\", \"whom\", \"whose\", \"why\", \"will\", \"with\", \"within\", \"without\", \"would\", \"yet\", \"you\", \"your\", \"yours\", \"yourself\", \"yourselves\", \"the\", \"a\", \"b\", \"c\", \"d\", \"e\", \"f\", \"g\", \"h\", \"i\", \"j\", \"k\", \"l\", \"m\", \"n\", \"o\", \"p\", \"q\", \"r\", \"s\", \"t\", \"u\", \"v\", \"w\", \"x\", \"y\", \"z\", \"A\", \"B\", \"C\", \"D\", \"E\", \"F\", \"G\", \"H\", \"I\", \"J\", \"K\", \"L\", \"M\", \"N\", \"O\", \"P\", \"Q\", \"R\", \"S\", \"T\", \"U\", \"V\", \"W\", \"X\", \"Y\", \"Z\", \"co\", \"op\", \"research-articl\", \"pagecount\", \"cit\", \"ibid\", \"les\", \"le\", \"au\", \"que\", \"est\", \"pas\", \"vol\", \"el\", \"los\", \"pp\", \"u201d\", \"well-b\", \"http\", \"volumtype\", \"par\", \"0o\", \"0s\", \"3a\", \"3b\", \"3d\", \"6b\", \"6o\", \"a1\", \"a2\", \"a3\", \"a4\", \"ab\", \"ac\", \"ad\", \"ae\", \"af\", \"ag\", \"aj\", \"al\", \"an\", \"ao\", \"ap\", \"ar\", \"av\", \"aw\", \"ax\", \"ay\", \"az\", \"b1\", \"b2\", \"b3\", \"ba\", \"bc\", \"bd\", \"be\", \"bi\", \"bj\", \"bk\", \"bl\", \"bn\", \"bp\", \"br\", \"bs\", \"bt\", \"bu\", \"bx\", \"c1\", \"c2\", \"c3\", \"cc\", \"cd\", \"ce\", \"cf\", \"cg\", \"ch\", \"ci\", \"cj\", \"cl\", \"cm\", \"cn\", \"cp\", \"cq\", \"cr\", \"cs\", \"ct\", \"cu\", \"cv\", \"cx\", \"cy\", \"cz\", \"d2\", \"da\", \"dc\", \"dd\", \"de\", \"df\", \"di\", \"dj\", \"dk\", \"dl\", \"do\", \"dp\", \"dr\", \"ds\", \"dt\", \"du\", \"dx\", \"dy\", \"e2\", \"e3\", \"ea\", \"ec\", \"ed\", \"ee\", \"ef\", \"ei\", \"ej\", \"el\", \"em\", \"en\", \"eo\", \"ep\", \"eq\", \"er\", \"es\", \"et\", \"eu\", \"ev\", \"ex\", \"ey\", \"f2\", \"fa\", \"fc\", \"ff\", \"fi\", \"fj\", \"fl\", \"fn\", \"fo\", \"fr\", \"fs\", \"ft\", \"fu\", \"fy\", \"ga\", \"ge\", \"gi\", \"gj\", \"gl\", \"go\", \"gr\", \"gs\", \"gy\", \"h2\", \"h3\", \"hh\", \"hi\", \"hj\", \"ho\", \"hr\", \"hs\", \"hu\", \"hy\", \"i\", \"i2\", \"i3\", \"i4\", \"i6\", \"i7\", \"i8\", \"ia\", \"ib\", \"ic\", \"ie\", \"ig\", \"ih\", \"ii\", \"ij\", \"il\", \"in\", \"io\", \"ip\", \"iq\", \"ir\", \"iv\", \"ix\", \"iy\", \"iz\", \"jj\", \"jr\", \"js\", \"jt\", \"ju\", \"ke\", \"kg\", \"kj\", \"km\", \"ko\", \"l2\", \"la\", \"lb\", \"lc\", \"lf\", \"lj\", \"ln\", \"lo\", \"lr\", \"ls\", \"lt\", \"m2\", \"ml\", \"mn\", \"mo\", \"ms\", \"mt\", \"mu\", \"n2\", \"nc\", \"nd\", \"ne\", \"ng\", \"ni\", \"nj\", \"nl\", \"nn\", \"nr\", \"ns\", \"nt\", \"ny\", \"oa\", \"ob\", \"oc\", \"od\", \"of\", \"og\", \"oi\", \"oj\", \"ol\", \"om\", \"on\", \"oo\", \"oq\", \"or\", \"os\", \"ot\", \"ou\", \"ow\", \"ox\", \"oz\", \"p1\", \"p2\", \"p3\", \"pc\", \"pd\", \"pe\", \"pf\", \"ph\", \"pi\", \"pj\", \"pk\", \"pl\", \"pm\", \"pn\", \"po\", \"pq\", \"pr\", \"ps\", \"pt\", \"pu\", \"py\", \"qj\", \"qu\", \"r2\", \"ra\", \"rc\", \"rd\", \"rf\", \"rh\", \"ri\", \"rj\", \"rl\", \"rm\", \"rn\", \"ro\", \"rq\", \"rr\", \"rs\", \"rt\", \"ru\", \"rv\", \"ry\", \"s2\", \"sa\", \"sc\", \"sd\", \"se\", \"sf\", \"si\", \"sj\", \"sl\", \"sm\", \"sn\", \"sp\", \"sq\", \"sr\", \"ss\", \"st\", \"sy\", \"sz\", \"t1\", \"t2\", \"t3\", \"tb\", \"tc\", \"td\", \"te\", \"tf\", \"th\", \"ti\", \"tj\", \"tl\", \"tm\", \"tn\", \"tp\", \"tq\", \"tr\", \"ts\", \"tt\", \"tv\", \"tx\", \"ue\", \"ui\", \"uj\", \"uk\", \"um\", \"un\", \"uo\", \"ur\", \"ut\", \"va\", \"wa\", \"vd\", \"wi\", \"vj\", \"vo\", \"wo\", \"vq\", \"vt\", \"vu\", \"x1\", \"x2\", \"x3\", \"xf\", \"xi\", \"xj\", \"xk\", \"xl\", \"xn\", \"xo\", \"xs\", \"xt\", \"xv\", \"xx\", \"y2\", \"yj\", \"yl\", \"yr\", \"ys\", \"yt\", \"zi\", \"zz\"]\n",
    "for x in f:\n",
    "\tx=x.replace('!',' ')\n",
    "\tx=x.replace('.',' ')\n",
    "\tx=x.replace(',',' ')\n",
    "\tx=x.replace('-',' ')\n",
    "\tx=x.replace(')',' ')\n",
    "\tx=x.replace('(',' ')\n",
    "\tx=x.replace(']',' ')\n",
    "\tx=x.replace('[',' ')\n",
    "\tx=x.replace('{',' ')\n",
    "\tx=x.replace('}',' ')\n",
    "\tx=x.replace('\\'',' ')\n",
    "\tx=x.replace('\\\\',' ')\n",
    "\tx=x.replace('\"',' ')\n",
    "\tx=x.replace('\\t',' ')\n",
    "\tx=x.replace('/',' ')\n",
    "\tx=x.replace(':',' ')\n",
    "\tx=x.replace(';',' ')\n",
    "\tx=x.replace('?',' ')\n",
    "\tf1.write(x)\t\n",
    "f1.close()\t"
   ]
  },
  {
   "cell_type": "code",
   "execution_count": 9,
   "id": "confident-trailer",
   "metadata": {
    "ExecuteTime": {
     "end_time": "2021-03-19T16:21:26.137794Z",
     "start_time": "2021-03-19T16:21:25.489732Z"
    }
   },
   "outputs": [
    {
     "name": "stdout",
     "output_type": "stream",
     "text": [
      "[['nspam', 'So        plug      US      converter'], ['spam', 'Good case  Excellent'], ['spam', 'Great   jawbone'], ['nspam', 'Tied  charger  conversations lasting      minutes MAJOR PROBLEMS'], ['spam', 'The mic  great'], ['nspam', '   jiggle  plug          decent volume'], ['nspam', 'If    dozen    contacts   imagine  fun  sending'], ['spam', 'If   Razr owner'], ['nspam', 'Needless     wasted  money'], ['nspam', 'What  waste  money  time'], ['spam', 'And  sound quality  great'], ['spam', 'He   impressed     original battery   extended battery'], ['nspam', 'If    seperated   mere  +   started  notice excessive static  garbled sound   headset'], ['spam', 'Very good quality'], ['nspam', 'The design   odd    ear  clip     comfortable'], ['spam', 'Highly recommend       blue tooth phone'], ['nspam', ' advise EVERYONE DO NOT BE FOOLED'], ['spam', 'So Far So Good'], ['spam', 'Works great'], ['nspam', 'It clicks  place         long  mechanism'], ['nspam', '   Motorola  website    directions        pair'], ['spam', ' bought      Kindle Fire  absolutely loved'], ['nspam', 'The commercials    misleading'], ['spam', '       battery   bars     days  charging'], ['nspam', ' bought    mother     problem   battery'], ['spam', 'Great Pocket PC   phone combination'], ['spam', '  owned  phone    months          mobile phone'], ['nspam', '      instructions provided  helpful'], ['nspam', 'People  hear  talk     pull   earphone  talk   phone'], ['nspam', 'Doesn  hold charge'], ['nspam', 'This   simple  phone      breakage  unacceptible'], ['spam', 'This product  ideal  people    ears   sensitive'], ['nspam', 'It  unusable   moving car  freeway speed'], ['nspam', '    years left   contract   hate  phone'], ['spam', 'Car charger    AC charger  included         juice Highy recommended'], ['nspam', 'You      mins     phone book   time   turn   phone Battery life  short'], ['spam', 'It'], ['nspam', 'Poor Talk Time Performance'], ['spam', 'The case  great  works fine'], ['nspam', 'worthless product'], ['spam', 'It   great camera   MP    pics  nice  clear  great picture quality'], ['nspam', '   impressed   product'], ['spam', 'Nice headset priced'], ['nspam', '  hear garbage  audio'], ['spam', 'Excellent bluetooth headset'], ['spam', 'It    features'], ['nspam', 'Who    mind  gonna buy  battery'], ['nspam', 'AFTER ARGUING WITH VERIZON REGARDING THE DROPPED CALLS WE RETURNED THE PHONES AFTER TWO DAYS'], ['spam', 'This case'], ['nspam', 'Disappointed  battery'], ['nspam', 'Not loud     turn'], ['spam', 'good protection     phone  bulky'], ['spam', ' usable keyboard  turns  PDA   real   machine     neat gadget'], ['spam', 'This phone  pretty sturdy       large problems'], ['spam', ' love  thing'], ['spam', 'Everything    fine  reasonable   price'], ['nspam', 'VERY DISAPPOINTED'], ['spam', '  dropped  phone   stream    submerged     seconds    works great'], ['spam', '    happy          NO complaints      sound quality'], ['nspam', 'The buttons      bad'], ['nspam', 'Essentially   forget Microsoft  tech support'], ['spam', '  recommend  faceplates     nice  elegant  cool'], ['spam', 'These headphones   great            purchase        years'], ['nspam', 'Buy   phone'], ['nspam', 'You   hold  phone    angle    party  hear'], ['nspam', 'The  big drawback   MP  player    buttons   phone   cover    pause  skip songs lock     seconds'], ['nspam', ' week    activated    suddenly died'], ['spam', 'It feels  comfortable   headsets   wear glasses'], ['spam', 'Great  iPODs'], ['spam', 'This device  great   situations'], ['nspam', 'Mic Doesn  work'], ['nspam', 'Even   BMW   series   fairly quiet    trouble hearing    person'], ['spam', 'Great choice'], ['spam', 'Nice docking station    work'], ['spam', 'This   beautiful phone'], ['spam', 'Love  product'], ['nspam', 'Do Not Buy        wrongly advertised'], ['spam', 'This   great  item'], ['spam', ' love  phone   It   handy    lot  features'], ['nspam', ' purchased      days    longer working'], ['spam', ' wear  everyday   holds'], ['nspam', 'Not  good bargain'], ['spam', 'Well packaged  arrived  time   works  intended'], ['nspam', 'The battery runs'], ['nspam', 'This item worked great    broke    months'], ['spam', 'The headsets  easy     loves'], ['spam', 'This phone works great'], ['nspam', 'The construction   headsets  poor'], ['spam', 'Product  excellent  works    verizon   Boy   cheaper'], ['spam', 'The phone loads super'], ['nspam', 'For  product  costs         expect   work     greater ease   thing'], ['spam', 'Made  sturdy'], ['spam', 'Worked great'], ['nspam', 'The ear buds  play music   ear'], ['nspam', 'Dont waste  money'], ['spam', 'Will order'], ['nspam', 'If  plan      car forget'], ['nspam', '   product   waaay  big'], ['spam', 'Best                 bluetooths       quality       listener     ease'], ['nspam', '   disappointed   decision'], ['spam', 'Integrated seamlessly   Motorola RAZR phone'], ['nspam', 'Buyer Beware    flush money    toilet'], ['spam', 'Definitely  bargain'], ['spam', 'The price   good    free shipping      good purchase'], ['nspam', ' received  supposedly  motorola           match   phone   charger'], ['spam', 'Pros  Good camera    nice pictures     cool styles  black  white'], ['nspam', 'That   huge design flaw        correctly         case'], ['spam', ' love      headset   My Jabra    bluetooth headset  great   reception   good   ear piece   comfortable fit'], ['nspam', 'The camera   rated   impressive     megapixels  renders images  fall   expectations     high resolution'], ['nspam', ' purcashed    car charger     work'], ['spam', 'Sound quality     excellent    headset    wife    wife   headset'], ['spam', 'This phone  slim  light   display  beautiful'], ['spam', '   geeky      sex  toast   rocks  oozes sex     battery embedded sleek stylish leather case'], ['spam', 'Great product  fast shipping'], ['spam', 'Absolutely great'], ['spam', 'The keyboard   nice compromise    QWERTY   basic cell phone number keypad'], ['nspam', '   phone         completely unhappy'], ['spam', 'It   comfortable   ear'], ['spam', 'It    winner'], ['spam', ' Setup     simpler'], ['spam', '     earpieces   cell phone   Jabra          fits  ear comfortably'], ['nspam', 'Could   strong  signal'], ['spam', 'Iam  pleased   purchase'], ['nspam', 'Bad Quality'], ['spam', 'Gets  job'], ['spam', 'Great audio'], ['nspam', 'Basically  service   bad'], ['nspam', '   work   cell phone plug     set   charger'], ['spam', '     bluetooth    weeks'], ['nspam', 'The BT headset    disapoinment'], ['spam', 'It   small      realize'], ['spam', 'The accompanied software   brilliant'], ['spam', 'Headset works great &  packaged nicely  avoid  damage'], ['spam', '  definitly recommend'], ['nspam', 'Buyer  Be Very Careful'], ['nspam', 'The majority   Logitech earbud headsets failed'], ['spam', 'Very good stuff   price'], ['spam', 'My headset works  peachy keen'], ['nspam', 'In  house    dropped coverage upstairs   coverage   basement'], ['spam', 'Voice recognition  tremendous'], ['nspam', 'What  waste'], ['nspam', 'During     minute calls   experienced   drops      area     bars'], ['nspam', '   happy   item'], ['nspam', ' disappointed'], ['nspam', 'The phone takes FOREVER  charge       hours literally'], ['spam', '   phone  reccomendation   relative    glad'], ['nspam', 'What  waste  time'], ['nspam', 'Its reception    poor'], ['nspam', 'Items stated  included   description ARE NOT INCLUDED'], ['nspam', 'After   months  screen   black    sudden'], ['nspam', ' Was Hoping  More'], ['nspam', 'Audio Quality  poor   poor'], ['spam', '  absolutely  problem   headset linking        Blackberry Curve'], ['spam', '   sounds funny        sketchy technology    work  Well    works great'], ['nspam', '  bought $  wired headphones  sound'], ['spam', 'This phone   fast  sending  kind  messages  web browsing   faster  previous phones'], ['spam', 'Nice quality build    cheap s***'], ['spam', 'This item  fantastic  works perfectly'], ['spam', 'And   love  colors'], ['spam', '      SUPERB'], ['nspam', 'All     whine   Internet      The     thing'], ['spam', 'Great charger'], ['nspam', 'This  essentially  communications tool    communicate'], ['spam', 'Works   charm   work          phone'], ['nspam', '  maintain  monkeys    headphones       share  DNA  copy  design   humans'], ['spam', 'Great Value'], ['nspam', 'Doesn  work      bougth         working'], ['spam', 'The      sharp   screen  nice  clear   great graphics'], ['nspam', '   long'], ['nspam', 'One thing  hate   mode set button'], ['spam', 'EXCELLENT SERVICE'], ['nspam', 'Thank   wasting  money'], ['nspam', 'How    The audio quality  poor'], ['spam', 'The iGo chargers  tips   great'], ['spam', 'The file browser offers   options    Handsfree  great'], ['spam', 'Superb Phone   Great Network'], ['spam', ' connected  wife  bluetooth  Motorola HS       phone   worked   charm   phone    pocket   case'], ['nspam', '   latest OS              likes  slow   crawl  lock'], ['nspam', 'It  recognizes  Phone   storage device'], ['nspam', 'If    loud buzzing  override   conversations    phone'], ['nspam', 'Don  buy  product'], ['nspam', '    bluetoooth headset   time     comfortable     fits   ear'], ['spam', 'The sound quality  good  functionality  awesome'], ['nspam', '   phone     thorn       abhor'], ['nspam', '   problems     stay connected       minutes   disconnected'], ['spam', 'Incredible'], ['nspam', 'Design Flaw'], ['spam', 'Great phone'], ['nspam', 'Waste     bucks'], ['nspam', 'But   check voice mail  night   keypad backlight turns    seconds    message      lost'], ['nspam', 'The replacement died    weeks'], ['spam', 'Any ring tone  Overall good phone  buy'], ['spam', 'Lately    extremely nice  helpful   phone'], ['nspam', '   problems wit hit dropping signal'], ['nspam', 'Not impressed'], ['spam', 'Light weight    notice'], ['spam', 'You  love'], ['nspam', 'Bad Choice'], ['nspam', 'The pleather case   fit'], ['nspam', 'useless phone  simply deaf'], ['spam', 'The color   "
     ]
    },
    {
     "data": {
      "text/html": [
       "<b>limit_output extension: Maximum message size of 10000 exceeded with 50045 characters</b>"
      ]
     },
     "metadata": {},
     "output_type": "display_data"
    }
   ],
   "source": [
    "f1=open(\"my.txt\",\"r\")\n",
    "list1=[]# nested list\n",
    "for x in f1:\t\n",
    "\tx=x.rstrip()\n",
    "\ty=x[len(x)-1]\n",
    "\tlist2=[] # spam or not\n",
    "\tx=x.replace(\"0\",' ')\n",
    "\tx=x.replace(\"1\",' ')\n",
    "\tx=x.replace(\"2\",' ')\n",
    "\tx=x.replace(\"3\",' ')\n",
    "\tx=x.replace(\"4\",' ')\n",
    "\tx=x.replace(\"5\",' ')\n",
    "\tx=x.replace(\"6\",' ')\n",
    "\tx=x.replace(\"7\",' ')\n",
    "\tx=x.replace(\"8\",' ')\n",
    "\tx=x.replace(\"9\",' ')\n",
    "\tz=x.split(\" \")\n",
    "\tx=\"\"\n",
    "\tfor k in z:\n",
    "\t\tif k in li:\n",
    "\t\t\tk=k.replace(k,\"\")\t\t\n",
    "\t\tx+=k\n",
    "\t\tx+=\" \"\t\n",
    "\tx=x.rstrip()\n",
    "\tif y=='0':\n",
    "\t\tlist2.append('nspam')\n",
    "\telif y=='1':\n",
    "\t    list2.append('spam')   \t\t\n",
    "\tlist2.append(x)\n",
    "\tlist1.append(list2)\t\n",
    "\n",
    "print(list1)"
   ]
  },
  {
   "cell_type": "code",
   "execution_count": 11,
   "id": "macro-premiere",
   "metadata": {
    "ExecuteTime": {
     "end_time": "2021-03-19T16:22:19.628941Z",
     "start_time": "2021-03-19T16:22:19.561701Z"
    }
   },
   "outputs": [
    {
     "name": "stdout",
     "output_type": "stream",
     "text": [
      "    statuss                                             textss\n",
      "0     nspam                          [so, plug, us, converter]\n",
      "1      spam                            [good, case, excellent]\n",
      "2      spam                                   [great, jawbone]\n",
      "3     nspam  [tied, charger, conversations, lasting, minute...\n",
      "4      spam                                  [the, mic, great]\n",
      "..      ...                                                ...\n",
      "995   nspam  [the, screen, smudged, easily, touches, ear, f...\n",
      "996   nspam            [what, piece, junk, lose, calls, phone]\n",
      "997   nspam                  [item, does, not, match, picture]\n",
      "998   nspam   [the, thing, disappoint, infra, red, port, irda]\n",
      "999   nspam                 [you, answer, calls, unit, worked]\n",
      "\n",
      "[1000 rows x 2 columns]\n"
     ]
    },
    {
     "name": "stderr",
     "output_type": "stream",
     "text": [
      "<ipython-input-11-e76cd5943721>:6: FutureWarning: The default value of regex will change from True to False in a future version.\n",
      "  f3['textss'] = f3['textss'].str.replace('\\W+', ' ').str.replace('\\s+', ' ').str.strip()\n"
     ]
    }
   ],
   "source": [
    "with open (\"final2.csv\",\"w\") as f2:\n",
    "\twriter=csv.writer(f2)\n",
    "\twriter.writerow(fields)\n",
    "\twriter.writerows(list1)\t\n",
    "f3=pd.read_csv(\"final2.csv\")\n",
    "f3['textss'] = f3['textss'].str.replace('\\W+', ' ').str.replace('\\s+', ' ').str.strip()\n",
    "f3['textss'] = f3['textss'].str.lower()\n",
    "f3['textss'] = f3['textss'].str.split()\n",
    "alpha=1\n",
    "print(f3)"
   ]
  },
  {
   "cell_type": "code",
   "execution_count": 12,
   "id": "eligible-delivery",
   "metadata": {
    "ExecuteTime": {
     "end_time": "2021-03-19T16:36:50.611904Z",
     "start_time": "2021-03-19T16:36:50.563295Z"
    }
   },
   "outputs": [],
   "source": [
    "def Pspam_word(word): # P(word/spam)\n",
    "\tif word in train_data.columns:\n",
    "\t\treturn (train_data.loc[train_data['statuss']=='spam',word].sum()+alpha)/(No_of_words_in_spam+alpha*No_of_words)\n",
    "\telse:\t\n",
    "\t\treturn 1\t\n",
    "def Pnspam_word(word):\n",
    "    if word in train_data.columns:\n",
    "        return (train_data.loc[train_data['statuss']=='nspam',word].sum()+alpha)/(No_of_words_in_nonspam+alpha*No_of_words)\n",
    "    else:\n",
    "        return 1       \n",
    "def detect(message):\n",
    "\tspam=1\n",
    "\tnonspam=1\n",
    "\tfor k in message:\n",
    "\t\tspam *= Pspam_word(k)\n",
    "\t\tspam*=Pspam\n",
    "\t\tnonspam *= Pnspam_word(k)\n",
    "\t\tnonspam*=Pnonspam\n",
    "\tif spam > nonspam:\n",
    "\t    return 'spam'\n",
    "\telif nonspam>spam:\n",
    "\t    return 'nspam'  \t\n",
    "\telse:\n",
    "\t    return 'check' \n",
    " #1st fold\n",
    " #p(spam_nonsapm/word)=p(word/spam_nonspam)*p(spam_nonspam)/p(getting that word)\n"
   ]
  },
  {
   "cell_type": "code",
   "execution_count": 15,
   "id": "stopped-destination",
   "metadata": {
    "ExecuteTime": {
     "end_time": "2021-03-20T08:59:52.155310Z",
     "start_time": "2021-03-20T08:59:41.947616Z"
    }
   },
   "outputs": [
    {
     "name": "stdout",
     "output_type": "stream",
     "text": [
      "Empty DataFrame\n",
      "Columns: [statuss, textss]\n",
      "Index: []\n",
      "Empty DataFrame\n",
      "Columns: [statuss, textss]\n",
      "Index: []\n",
      "    statuss                                             textss\n",
      "0     nspam                          [so, plug, us, converter]\n",
      "1      spam                            [good, case, excellent]\n",
      "2      spam                                   [great, jawbone]\n",
      "3     nspam  [tied, charger, conversations, lasting, minute...\n",
      "4      spam                                  [the, mic, great]\n",
      "..      ...                                                ...\n",
      "138   nspam  [in, house, dropped, coverage, upstairs, cover...\n",
      "139    spam                   [voice, recognition, tremendous]\n",
      "140   nspam                                      [what, waste]\n",
      "141   nspam  [during, minute, calls, experienced, drops, ar...\n",
      "142   nspam                                      [happy, item]\n",
      "\n",
      "[143 rows x 2 columns]\n",
      "    statuss                                             textss\n",
      "0     nspam                                     [disappointed]\n",
      "1     nspam  [the, phone, takes, forever, charge, hours, li...\n",
      "2      spam            [phone, reccomendation, relative, glad]\n",
      "3     nspam                                [what, waste, time]\n",
      "4     nspam                             [its, reception, poor]\n",
      "..      ...                                                ...\n",
      "852   nspam  [the, screen, smudged, easily, touches, ear, f...\n",
      "853   nspam            [what, piece, junk, lose, calls, phone]\n",
      "854   nspam                  [item, does, not, match, picture]\n",
      "855   nspam   [the, thing, disappoint, infra, red, port, irda]\n",
      "856   nspam                 [you, answer, calls, unit, worked]\n",
      "\n",
      "[857 rows x 2 columns]\n",
      "For 1st fold\n",
      "    statuss                                             textss prediction\n",
      "0     nspam                          [so, plug, us, converter]      nspam\n",
      "1      spam                            [good, case, excellent]       spam\n",
      "2      spam                                   [great, jawbone]       spam\n",
      "3     nspam  [tied, charger, conversations, lasting, minute...      nspam\n",
      "4      spam                                  [the, mic, great]       spam\n",
      "..      ...                                                ...        ...\n",
      "138   nspam  [in, house, dropped, coverage, upstairs, cover...      nspam\n",
      "139    spam                   [voice, recognition, tremendous]       spam\n",
      "140   nspam                                      [what, waste]      nspam\n",
      "141   nspam  [during, minute, calls, experienced, drops, ar...      nspam\n",
      "142   nspam                                      [happy, item]       spam\n",
      "\n",
      "[143 rows x 3 columns]\n",
      "84.61538461538461\n"
     ]
    }
   ],
   "source": [
    "# test 1\n",
    "test_data=pd.DataFrame(columns=['statuss','textss'])\n",
    "train_data=pd.DataFrame(columns=['statuss','textss'])\n",
    "print(test_data)\n",
    "print(train_data)\n",
    "for index,row in f3.iterrows():\n",
    "\tif index<143:\n",
    "\t\ttest_data=test_data.append({'statuss':row[0],'textss':row[1]},ignore_index=True)\n",
    "\telse:\n",
    "\t\ttrain_data=train_data.append({'statuss':row[0],'textss':row[1]},ignore_index=True)\n",
    "print(test_data)\n",
    "print(train_data)\t     \t\n",
    "total_rows=train_data.shape[0]\n",
    "no_of_spam=train_data['statuss'].value_counts()['spam']\n",
    "Pspam=no_of_spam/total_rows# prob of spam messages\n",
    "no_of_non_spam=train_data['statuss'].value_counts()['nspam']\n",
    "Pnonspam=no_of_non_spam/total_rows# prob of nspam messages\n",
    "total_words=set(train_data['textss'].sum())\n",
    "word_count =pd.DataFrame([[row[1].count(word) for word in total_words]for index, row in train_data.iterrows()], columns=total_words)\n",
    "word_count.reset_index(drop=True)\n",
    "train_data = pd.concat([train_data.reset_index(), word_count], axis=1)\n",
    "train_data.drop('index',axis='columns', inplace=True)\n",
    "No_of_words=len(train_data.columns)-2\n",
    "No_of_words_in_spam=train_data.loc[train_data['statuss']=='spam','textss'].apply(len).sum()\n",
    "No_of_words_in_nonspam=train_data.loc[train_data['statuss']=='nspam','textss'].apply(len).sum()\n",
    "train_data.reset_index(drop=True)\n",
    "test_data['prediction']='spam'\n",
    "count=0\n",
    "for index,row in test_data.iterrows():\n",
    "\tk=detect(row[1])\n",
    "\tcount = count+1\n",
    "\ttest_data.iloc[index,[2]]=k\n",
    "print(\"For 1st fold\")\t\n",
    "print(test_data)\t\t\n",
    "accuracy1 = (test_data['prediction'] == test_data['statuss']).sum() / test_data.shape[0] * 100\n",
    "print(accuracy1)\n"
   ]
  }
 ],
 "metadata": {
  "hide_input": false,
  "kernelspec": {
   "display_name": "Python 3",
   "language": "python",
   "name": "python3"
  },
  "language_info": {
   "codemirror_mode": {
    "name": "ipython",
    "version": 3
   },
   "file_extension": ".py",
   "mimetype": "text/x-python",
   "name": "python",
   "nbconvert_exporter": "python",
   "pygments_lexer": "ipython3",
   "version": "3.8.8"
  },
  "toc": {
   "base_numbering": 1,
   "nav_menu": {},
   "number_sections": true,
   "sideBar": true,
   "skip_h1_title": false,
   "title_cell": "Table of Contents",
   "title_sidebar": "Contents",
   "toc_cell": false,
   "toc_position": {},
   "toc_section_display": true,
   "toc_window_display": false
  },
  "varInspector": {
   "cols": {
    "lenName": 16,
    "lenType": 16,
    "lenVar": 40
   },
   "kernels_config": {
    "python": {
     "delete_cmd_postfix": "",
     "delete_cmd_prefix": "del ",
     "library": "var_list.py",
     "varRefreshCmd": "print(var_dic_list())"
    },
    "r": {
     "delete_cmd_postfix": ") ",
     "delete_cmd_prefix": "rm(",
     "library": "var_list.r",
     "varRefreshCmd": "cat(var_dic_list()) "
    }
   },
   "types_to_exclude": [
    "module",
    "function",
    "builtin_function_or_method",
    "instance",
    "_Feature"
   ],
   "window_display": false
  }
 },
 "nbformat": 4,
 "nbformat_minor": 5
}
